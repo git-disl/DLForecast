{
 "cells": [
  {
   "cell_type": "code",
   "execution_count": 1,
   "metadata": {},
   "outputs": [],
   "source": [
    "tx_start_subset = 1\n",
    "tx_end_subset = 500000"
   ]
  },
  {
   "cell_type": "code",
   "execution_count": 2,
   "metadata": {},
   "outputs": [],
   "source": [
    "from cassandra.cluster import Cluster\n",
    "from cassandra.auth import PlainTextAuthProvider\n",
    "import pandas as pd\n",
    "\n",
    "auth_provider = PlainTextAuthProvider(username='admin', password='admin123')\n",
    "cluster = Cluster(['35.238.43.195'], port=9042, auth_provider=auth_provider)\n",
    "session = cluster.connect('bitcoin')"
   ]
  },
  {
   "cell_type": "code",
   "execution_count": 3,
   "metadata": {},
   "outputs": [],
   "source": [
    "from pyvis import network as net\n",
    "import networkx as nx"
   ]
  },
  {
   "cell_type": "code",
   "execution_count": 4,
   "metadata": {},
   "outputs": [],
   "source": [
    "def get_num_rows(node_id):\n",
    "    query = 'SELECT * from node_info where add_id={}'.format(node_id)\n",
    "    rows = session.execute(query)\n",
    "    info = pd.DataFrame(list(rows))\n",
    "    num_rows = info['num_rows'][0]\n",
    "    # print(info)\n",
    "    return num_rows, info"
   ]
  },
  {
   "cell_type": "code",
   "execution_count": 5,
   "metadata": {},
   "outputs": [],
   "source": [
    "def get_recent_data(node_id):\n",
    "    num_rows,_ = get_num_rows(node_id)\n",
    "    block_id = int(num_rows/100)\n",
    "    for i in range(block_id, -1, -1):\n",
    "        query = 'SELECT * from transactions where add_id={} and block_id={} and txid>{} and txid<{}'.format(node_id, i, tx_start_subset, tx_end_subset)\n",
    "        rows = session.execute(query)\n",
    "        df = pd.DataFrame(list(rows))\n",
    "        if len(df)<=0:\n",
    "            has_data = 0\n",
    "        else:\n",
    "            df = df.sort_values(by=['timestamp'], ascending=False)\n",
    "            df['amount'] = round(df['amount']*0.00000001,2)\n",
    "            # print(df[0:40])\n",
    "            has_data = 1\n",
    "            break\n",
    "    if not has_data:\n",
    "        print(\"Data not found!!\")\n",
    "        return None\n",
    "    return df"
   ]
  },
  {
   "cell_type": "code",
   "execution_count": 6,
   "metadata": {},
   "outputs": [],
   "source": [
    "def get_role_based_data(df):\n",
    "    sdf = pd.DataFrame()\n",
    "    sdf['source'] = df.loc[df['role']=='source']['add_id']\n",
    "    sdf['target'] = df.loc[df['role']=='source']['nbr_id']\n",
    "    tdf = pd.DataFrame()\n",
    "    tdf['source'] = df.loc[df['role']=='target']['nbr_id']\n",
    "    tdf['target'] = df.loc[df['role']=='target']['add_id']\n",
    "    #gdf = sdf.append(tdf)\n",
    "    return sdf, tdf"
   ]
  },
  {
   "cell_type": "code",
   "execution_count": 7,
   "metadata": {},
   "outputs": [],
   "source": [
    "# size = len(gdf['source'])\n",
    "# gdf['color'] = ['red' for i in range(size)]\n",
    "# gb = net.Network(notebook=True, directed=True)\n",
    "# new = nx.from_pandas_edgelist(gdf, create_using=nx.DiGraph())\n",
    "# #nx.draw(new, nx.circular_layout(new), edges=new.edges(), edge_color='red')\n",
    "# gb.from_nx(new)\n",
    "# gb.show('g.html')"
   ]
  },
  {
   "cell_type": "code",
   "execution_count": 19,
   "metadata": {},
   "outputs": [],
   "source": [
    "def plot_temporal(df):\n",
    "    import matplotlib.pyplot as plt\n",
    "    fig = plt.figure()\n",
    "    p = fig.add_subplot()\n",
    "    p.plot_date(df.loc[df['role']=='source']['timestamp'], df.loc[df['role']=='source']['amount'], color='red', label='outgoing')\n",
    "    p.plot_date(df.loc[df['role']=='target']['timestamp'], df.loc[df['role']=='target']['amount'], color='green', label='incoming')\n",
    "    p.legend()\n",
    "    plt.xticks(rotation=45)\n",
    "    plt.show()"
   ]
  },
  {
   "cell_type": "code",
   "execution_count": 14,
   "metadata": {},
   "outputs": [],
   "source": [
    "def get_khop_data(n_hop, sdf, tdf):\n",
    "    lim = min(len(sdf['target']),5)\n",
    "    for k in range(n_hop):\n",
    "        target_nodes = sdf['target'][len(sdf['target'])-lim:]\n",
    "        lim = 0\n",
    "        for node in target_nodes:\n",
    "            rdf = get_recent_data(node)\n",
    "            if rdf is None:\n",
    "                continue\n",
    "            kdf = pd.DataFrame()\n",
    "            kdf['source'] = rdf.loc[rdf['role']=='source']['add_id']\n",
    "            kdf['target'] = rdf.loc[rdf['role']=='source']['nbr_id']\n",
    "            klim = min(len(kdf['source']),5)\n",
    "            lim = lim + klim\n",
    "            sdf = sdf.append(kdf[:][len(kdf['source'])-lim:])\n",
    "    print(sdf.shape)\n",
    "    lim = min(len(tdf['source']),5)\n",
    "    for k in range(n_hop):\n",
    "        source_nodes = tdf['source'][len(tdf['source'])-lim:]\n",
    "        lim = 0\n",
    "        for node in target_nodes:\n",
    "            rdf = get_recent_data(node)\n",
    "            if rdf is None:\n",
    "                continue\n",
    "            kdf = pd.DataFrame()\n",
    "            kdf['source'] = rdf.loc[rdf['role']=='target']['nbr_id']\n",
    "            kdf['target'] = rdf.loc[rdf['role']=='target']['add_id']\n",
    "            klim = min(len(kdf['target']),5)\n",
    "            lim = lim + klim\n",
    "            tdf = tdf.append(kdf[:][len(kdf['target'])-lim:])\n",
    "    print(tdf.shape)\n",
    "    gdf = sdf.append(tdf)\n",
    "    return gdf"
   ]
  },
  {
   "cell_type": "code",
   "execution_count": 10,
   "metadata": {},
   "outputs": [],
   "source": [
    "def plot_khop(gdf):\n",
    "    kgb = net.Network(notebook=True, directed=True)\n",
    "    kplot = nx.from_pandas_edgelist(gdf, create_using=nx.DiGraph())\n",
    "    #edges=nx.draw_networkx_edges(kplot,pos=nx.spring_layout(kplot))\n",
    "    kgb.from_nx(kplot)\n",
    "    return kgb"
   ]
  },
  {
   "cell_type": "code",
   "execution_count": 21,
   "metadata": {},
   "outputs": [
    {
     "ename": "OperationTimedOut",
     "evalue": "errors={'35.238.43.195:9042': 'Client request timeout. See Session.execute[_async](timeout)'}, last_host=35.238.43.195:9042",
     "output_type": "error",
     "traceback": [
      "\u001b[0;31m---------------------------------------------------------------------------\u001b[0m",
      "\u001b[0;31mOperationTimedOut\u001b[0m                         Traceback (most recent call last)",
      "\u001b[0;32m<ipython-input-21-a00bff4d4860>\u001b[0m in \u001b[0;36m<module>\u001b[0;34m\u001b[0m\n\u001b[1;32m      1\u001b[0m \u001b[0mnode_id\u001b[0m \u001b[0;34m=\u001b[0m \u001b[0;36m265689\u001b[0m\u001b[0;34m\u001b[0m\u001b[0m\n\u001b[1;32m      2\u001b[0m \u001b[0mk\u001b[0m\u001b[0;34m=\u001b[0m\u001b[0;36m3\u001b[0m\u001b[0;34m\u001b[0m\u001b[0m\n\u001b[0;32m----> 3\u001b[0;31m \u001b[0m_\u001b[0m\u001b[0;34m,\u001b[0m \u001b[0minfo\u001b[0m \u001b[0;34m=\u001b[0m \u001b[0mget_num_rows\u001b[0m\u001b[0;34m(\u001b[0m\u001b[0mnode_id\u001b[0m\u001b[0;34m)\u001b[0m\u001b[0;34m\u001b[0m\u001b[0m\n\u001b[0m\u001b[1;32m      4\u001b[0m \u001b[0mprint\u001b[0m\u001b[0;34m(\u001b[0m\u001b[0minfo\u001b[0m\u001b[0;34m)\u001b[0m\u001b[0;34m\u001b[0m\u001b[0m\n\u001b[1;32m      5\u001b[0m \u001b[0mdf\u001b[0m \u001b[0;34m=\u001b[0m \u001b[0mget_recent_data\u001b[0m\u001b[0;34m(\u001b[0m\u001b[0mnode_id\u001b[0m\u001b[0;34m)\u001b[0m\u001b[0;34m\u001b[0m\u001b[0m\n",
      "\u001b[0;32m<ipython-input-4-1c3f0256515a>\u001b[0m in \u001b[0;36mget_num_rows\u001b[0;34m(node_id)\u001b[0m\n\u001b[1;32m      1\u001b[0m \u001b[0;32mdef\u001b[0m \u001b[0mget_num_rows\u001b[0m\u001b[0;34m(\u001b[0m\u001b[0mnode_id\u001b[0m\u001b[0;34m)\u001b[0m\u001b[0;34m:\u001b[0m\u001b[0;34m\u001b[0m\u001b[0m\n\u001b[1;32m      2\u001b[0m     \u001b[0mquery\u001b[0m \u001b[0;34m=\u001b[0m \u001b[0;34m'SELECT * from node_info where add_id={}'\u001b[0m\u001b[0;34m.\u001b[0m\u001b[0mformat\u001b[0m\u001b[0;34m(\u001b[0m\u001b[0mnode_id\u001b[0m\u001b[0;34m)\u001b[0m\u001b[0;34m\u001b[0m\u001b[0m\n\u001b[0;32m----> 3\u001b[0;31m     \u001b[0mrows\u001b[0m \u001b[0;34m=\u001b[0m \u001b[0msession\u001b[0m\u001b[0;34m.\u001b[0m\u001b[0mexecute\u001b[0m\u001b[0;34m(\u001b[0m\u001b[0mquery\u001b[0m\u001b[0;34m)\u001b[0m\u001b[0;34m\u001b[0m\u001b[0m\n\u001b[0m\u001b[1;32m      4\u001b[0m     \u001b[0minfo\u001b[0m \u001b[0;34m=\u001b[0m \u001b[0mpd\u001b[0m\u001b[0;34m.\u001b[0m\u001b[0mDataFrame\u001b[0m\u001b[0;34m(\u001b[0m\u001b[0mlist\u001b[0m\u001b[0;34m(\u001b[0m\u001b[0mrows\u001b[0m\u001b[0;34m)\u001b[0m\u001b[0;34m)\u001b[0m\u001b[0;34m\u001b[0m\u001b[0m\n\u001b[1;32m      5\u001b[0m     \u001b[0mnum_rows\u001b[0m \u001b[0;34m=\u001b[0m \u001b[0minfo\u001b[0m\u001b[0;34m[\u001b[0m\u001b[0;34m'num_rows'\u001b[0m\u001b[0;34m]\u001b[0m\u001b[0;34m[\u001b[0m\u001b[0;36m0\u001b[0m\u001b[0;34m]\u001b[0m\u001b[0;34m\u001b[0m\u001b[0m\n",
      "\u001b[0;32m/Library/Frameworks/Python.framework/Versions/3.6/lib/python3.6/site-packages/cassandra/cluster.cpython-36m-darwin.so\u001b[0m in \u001b[0;36mcassandra.cluster.Session.execute\u001b[0;34m()\u001b[0m\n",
      "\u001b[0;32m/Library/Frameworks/Python.framework/Versions/3.6/lib/python3.6/site-packages/cassandra/cluster.cpython-36m-darwin.so\u001b[0m in \u001b[0;36mcassandra.cluster.ResponseFuture.result\u001b[0;34m()\u001b[0m\n",
      "\u001b[0;31mOperationTimedOut\u001b[0m: errors={'35.238.43.195:9042': 'Client request timeout. See Session.execute[_async](timeout)'}, last_host=35.238.43.195:9042"
     ]
    }
   ],
   "source": [
    "node_id = 265689\n",
    "k=3\n",
    "_, info = get_num_rows(node_id)\n",
    "print(info)\n",
    "df = get_recent_data(node_id)\n",
    "print(df[0:40])\n",
    "plot_temporal(df)\n",
    "sdf, tdf = get_role_based_data(df)\n",
    "gdf = get_khop_data(k, sdf, tdf)\n",
    "print(gdf.shape)\n",
    "kgb = plot_khop(gdf)\n",
    "kgb.show('graph_{}_{}.html'.format(node_id, k))"
   ]
  },
  {
   "cell_type": "code",
   "execution_count": null,
   "metadata": {
    "scrolled": true
   },
   "outputs": [],
   "source": [
    "node_1 = 744\n",
    "node_2 = 9\n",
    "query = \"select * from vector_embeddings where add_id in ({},{})\".format(node_1, node_2)\n",
    "rows = session.execute(query)\n",
    "edf = pd.DataFrame(list(rows))\n",
    "print(edf['add_id'][0])\n",
    "print(edf['vector'][0])\n",
    "print(edf['add_id'][1])\n",
    "print(edf['vector'][1])"
   ]
  }
 ],
 "metadata": {
  "kernelspec": {
   "display_name": "Python 3",
   "language": "python",
   "name": "python3"
  },
  "language_info": {
   "codemirror_mode": {
    "name": "ipython",
    "version": 3
   },
   "file_extension": ".py",
   "mimetype": "text/x-python",
   "name": "python",
   "nbconvert_exporter": "python",
   "pygments_lexer": "ipython3",
   "version": "3.6.5"
  }
 },
 "nbformat": 4,
 "nbformat_minor": 2
}
